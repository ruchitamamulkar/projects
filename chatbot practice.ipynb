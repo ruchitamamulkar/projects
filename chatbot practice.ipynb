{
 "cells": [
  {
   "cell_type": "code",
   "execution_count": 1,
   "metadata": {},
   "outputs": [],
   "source": [
    "import pandas as pd\n",
    "import numpy as np\n"
   ]
  },
  {
   "cell_type": "code",
   "execution_count": 2,
   "metadata": {},
   "outputs": [],
   "source": [
    "from sklearn.feature_extraction.text import TfidfVectorizer\n",
    "from sklearn.metrics.pairwise import cosine_similarity"
   ]
  },
  {
   "cell_type": "code",
   "execution_count": 3,
   "metadata": {},
   "outputs": [],
   "source": [
    "df=pd.read_csv(\"F:\\\\\\machine learning\\\\Machine Learning\\\\aws_faq.csv\")"
   ]
  },
  {
   "cell_type": "code",
   "execution_count": 4,
   "metadata": {},
   "outputs": [
    {
     "data": {
      "text/html": [
       "<div>\n",
       "<style scoped>\n",
       "    .dataframe tbody tr th:only-of-type {\n",
       "        vertical-align: middle;\n",
       "    }\n",
       "\n",
       "    .dataframe tbody tr th {\n",
       "        vertical-align: top;\n",
       "    }\n",
       "\n",
       "    .dataframe thead th {\n",
       "        text-align: right;\n",
       "    }\n",
       "</style>\n",
       "<table border=\"1\" class=\"dataframe\">\n",
       "  <thead>\n",
       "    <tr style=\"text-align: right;\">\n",
       "      <th></th>\n",
       "      <th>Question</th>\n",
       "      <th>Answer</th>\n",
       "    </tr>\n",
       "  </thead>\n",
       "  <tbody>\n",
       "    <tr>\n",
       "      <th>0</th>\n",
       "      <td>What is Amazon Elastic Compute Cloud (Amazon E...</td>\n",
       "      <td>Amazon Elastic Compute Cloud (Amazon EC2) is a...</td>\n",
       "    </tr>\n",
       "    <tr>\n",
       "      <th>1</th>\n",
       "      <td>What can I do with Amazon EC2?</td>\n",
       "      <td>Just as Amazon Simple Storage Service (Amazon ...</td>\n",
       "    </tr>\n",
       "    <tr>\n",
       "      <th>2</th>\n",
       "      <td>How can I get started with Amazon EC2?</td>\n",
       "      <td>To sign up for Amazon EC2, click the “Sign up ...</td>\n",
       "    </tr>\n",
       "    <tr>\n",
       "      <th>3</th>\n",
       "      <td>Why am I asked to verify my phone number when ...</td>\n",
       "      <td>Amazon EC2 registration requires you to have a...</td>\n",
       "    </tr>\n",
       "    <tr>\n",
       "      <th>4</th>\n",
       "      <td>What can developers now do that they could not...</td>\n",
       "      <td>Until now, small developers did not have the c...</td>\n",
       "    </tr>\n",
       "  </tbody>\n",
       "</table>\n",
       "</div>"
      ],
      "text/plain": [
       "                                            Question  \\\n",
       "0  What is Amazon Elastic Compute Cloud (Amazon E...   \n",
       "1                     What can I do with Amazon EC2?   \n",
       "2             How can I get started with Amazon EC2?   \n",
       "3  Why am I asked to verify my phone number when ...   \n",
       "4  What can developers now do that they could not...   \n",
       "\n",
       "                                              Answer  \n",
       "0  Amazon Elastic Compute Cloud (Amazon EC2) is a...  \n",
       "1  Just as Amazon Simple Storage Service (Amazon ...  \n",
       "2  To sign up for Amazon EC2, click the “Sign up ...  \n",
       "3  Amazon EC2 registration requires you to have a...  \n",
       "4  Until now, small developers did not have the c...  "
      ]
     },
     "execution_count": 4,
     "metadata": {},
     "output_type": "execute_result"
    }
   ],
   "source": [
    "df.head()"
   ]
  },
  {
   "cell_type": "code",
   "execution_count": 5,
   "metadata": {},
   "outputs": [],
   "source": [
    "df.dropna(inplace=True)"
   ]
  },
  {
   "cell_type": "code",
   "execution_count": 6,
   "metadata": {},
   "outputs": [
    {
     "data": {
      "text/plain": [
       "TfidfVectorizer(analyzer='word', binary=False, decode_error='strict',\n",
       "                dtype=<class 'numpy.float64'>, encoding='utf-8',\n",
       "                input='content', lowercase=True, max_df=1.0, max_features=None,\n",
       "                min_df=1, ngram_range=(1, 1), norm='l2', preprocessor=None,\n",
       "                smooth_idf=True, stop_words=None, strip_accents=None,\n",
       "                sublinear_tf=False, token_pattern='(?u)\\\\b\\\\w\\\\w+\\\\b',\n",
       "                tokenizer=None, use_idf=True, vocabulary=None)"
      ]
     },
     "execution_count": 6,
     "metadata": {},
     "output_type": "execute_result"
    }
   ],
   "source": [
    "vectorizer=TfidfVectorizer()\n",
    "vectorizer.fit(df.Question)"
   ]
  },
  {
   "cell_type": "code",
   "execution_count": 7,
   "metadata": {},
   "outputs": [],
   "source": [
    "Question_vectors=vectorizer.transform(df.Question)"
   ]
  },
  {
   "cell_type": "code",
   "execution_count": 8,
   "metadata": {},
   "outputs": [
    {
     "name": "stdout",
     "output_type": "stream",
     "text": [
      "you can start chatting with me now \n",
      "what is ec2\n",
      "With a single API call, EC2 Fleet lets you provision compute capacity across different instance types, Availability Zones and across On-Demand, Reserved Instances (RI) and Spot Instances purchase models to help optimize scale, performance and cost.\n"
     ]
    }
   ],
   "source": [
    "print(\"you can start chatting with me now \")\n",
    "while True:\n",
    "    #Read user input\n",
    "    input_question=input()\n",
    "    #Locate the closet question\n",
    "    input_question_vector=vectorizer.transform([input_question])\n",
    "    #compute similarities\n",
    "    similarities=cosine_similarity(input_question_vector,Question_vectors)\n",
    "    #find the closet question\n",
    "    closest=np.argmax(similarities,axis=1)\n",
    "    #print the correct answer\n",
    "    text =df.Answer.iloc[closest].values[0]\n",
    "    print(text)\n",
    "    break"
   ]
  },
  {
   "cell_type": "code",
   "execution_count": 9,
   "metadata": {},
   "outputs": [
    {
     "data": {
      "text/plain": [
       "array([[0.43471227, 0.48763466, 0.23134625, 0.11910089, 0.07251589,\n",
       "        0.18608703, 0.11812956, 0.        , 0.17981315, 0.        ,\n",
       "        0.28415783, 0.2112995 , 0.14112612, 0.        , 0.10361066,\n",
       "        0.20406012, 0.10374009, 0.17914123, 0.15401607, 0.2789986 ,\n",
       "        0.        , 0.        , 0.        , 0.        , 0.0789713 ,\n",
       "        0.        , 0.29788744, 0.43504229, 0.        , 0.0965746 ,\n",
       "        0.        , 0.        , 0.09121459, 0.        , 0.        ,\n",
       "        0.        , 0.        , 0.28577857, 0.        , 0.        ,\n",
       "        0.32324698, 0.        , 0.19436747, 0.        , 0.        ,\n",
       "        0.1341814 , 0.        , 0.        , 0.11884619, 0.        ,\n",
       "        0.0859758 , 0.        , 0.        , 0.        , 0.11340518,\n",
       "        0.        , 0.        , 0.0984087 , 0.08738681, 0.06015637,\n",
       "        0.        , 0.        , 0.        , 0.        , 0.        ,\n",
       "        0.08661591, 0.        , 0.        , 0.08959569, 0.        ,\n",
       "        0.        , 0.        , 0.        , 0.17712253, 0.24715192,\n",
       "        0.        , 0.        , 0.        , 0.16704755, 0.        ,\n",
       "        0.        , 0.14179031, 0.        , 0.13409722, 0.1231022 ,\n",
       "        0.11779963, 0.        , 0.17860366, 0.18981986, 0.06256852,\n",
       "        0.        , 0.46062688, 0.07685148, 0.        , 0.        ,\n",
       "        0.        , 0.09910156, 0.        , 0.        , 0.        ,\n",
       "        0.        , 0.        , 0.        , 0.        , 0.1052583 ,\n",
       "        0.        , 0.        , 0.        , 0.        , 0.        ,\n",
       "        0.        , 0.        , 0.        , 0.        , 0.        ,\n",
       "        0.        , 0.36834828, 0.        , 0.08624095, 0.        ,\n",
       "        0.        , 0.        , 0.        , 0.        , 0.        ,\n",
       "        0.        , 0.06921091, 0.        , 0.        , 0.        ,\n",
       "        0.        , 0.        , 0.        , 0.34002774, 0.        ,\n",
       "        0.        , 0.        , 0.        , 0.        , 0.        ,\n",
       "        0.        , 0.        , 0.        , 0.09746288, 0.        ,\n",
       "        0.        , 0.        , 0.10509202, 0.        , 0.        ,\n",
       "        0.        , 0.        , 0.        , 0.13144744, 0.        ,\n",
       "        0.        , 0.71303399, 0.25535205, 0.18337972, 0.32137943,\n",
       "        0.50258966, 0.13595062, 0.17990636, 0.17152522, 0.2202948 ,\n",
       "        0.24071764, 0.        , 0.45252061, 0.09891618, 0.        ,\n",
       "        0.        , 0.1137052 , 0.26461648, 0.10456374, 0.        ,\n",
       "        0.        , 0.        , 0.        , 0.08838811, 0.17778366,\n",
       "        0.13068607, 0.2001909 , 0.08848074, 0.        , 0.        ,\n",
       "        0.        , 0.12859356, 0.10117529, 0.        , 0.        ,\n",
       "        0.401545  , 0.10149514, 0.098561  , 0.05089886, 0.        ,\n",
       "        0.        , 0.        , 0.        , 0.        , 0.        ,\n",
       "        0.        , 0.        , 0.        , 0.        , 0.        ,\n",
       "        0.        , 0.        , 0.08053693, 0.17327088, 0.        ,\n",
       "        0.        , 0.        , 0.        , 0.        , 0.        ,\n",
       "        0.10023386, 0.22536305, 0.12765724, 0.        , 0.24010359,\n",
       "        0.        , 0.11197187, 0.        , 0.        , 0.07736057,\n",
       "        0.        , 0.0894699 , 0.        , 0.16120782, 0.        ,\n",
       "        0.        , 0.06666354, 0.        , 0.        , 0.        ,\n",
       "        0.        , 0.        , 0.63354929, 0.09801946, 0.        ,\n",
       "        0.22227298, 0.        , 0.29868579, 0.        , 0.        ,\n",
       "        0.        , 0.        , 0.        , 0.17027519, 0.32988621,\n",
       "        0.0692897 , 0.32206302, 0.27163817, 0.1210724 , 0.2758373 ,\n",
       "        0.12993745, 0.038069  , 0.        , 0.        , 0.05652886,\n",
       "        0.26839061, 0.26130235, 0.13021672, 0.08976396, 0.12318156,\n",
       "        0.        , 0.10097585, 0.        , 0.24205667, 0.        ,\n",
       "        0.        , 0.        , 0.        , 0.        , 0.18006825,\n",
       "        0.        , 0.        , 0.32614763, 0.        , 0.        ,\n",
       "        0.        , 0.        , 0.        , 0.        , 0.1682438 ,\n",
       "        0.1682438 , 0.39230505, 0.17777126, 0.12250697, 0.        ,\n",
       "        0.22145128, 0.        , 0.        , 0.        , 0.        ,\n",
       "        0.        , 0.        , 0.        , 0.        , 0.0563345 ,\n",
       "        0.        , 0.09169941, 0.10132464, 0.10132464, 0.        ,\n",
       "        0.        , 0.        , 0.        , 0.        , 0.        ,\n",
       "        0.        , 0.        , 0.        , 0.27335773, 0.32067191,\n",
       "        0.        , 0.19006629, 0.        , 0.        , 0.1410597 ,\n",
       "        0.31262938, 0.        , 0.        , 0.14527285, 0.10130079,\n",
       "        0.16172619, 0.28384361, 0.12998065, 0.09229383, 0.37150474,\n",
       "        0.        , 0.38448606, 0.        , 0.        , 0.13742764,\n",
       "        0.10819928, 0.18138955, 0.13557098, 0.12460275, 0.13297845,\n",
       "        0.09768916, 0.09586415, 0.07108651, 0.09130252, 0.06736594,\n",
       "        0.        , 0.16521903, 0.        , 0.        , 0.        ,\n",
       "        0.16324752, 0.08134968, 0.1650208 , 0.16733664, 0.        ,\n",
       "        0.09977012, 0.        , 0.23387834, 0.        , 0.37150474,\n",
       "        0.15744869, 0.        , 0.08390015, 0.        , 0.        ,\n",
       "        0.        , 0.        , 0.12993763, 0.        , 0.09373685,\n",
       "        0.05495568, 0.        , 0.04115098, 0.06200783, 0.06965797,\n",
       "        0.        , 0.08355977, 0.        , 0.47463115, 0.15568565,\n",
       "        0.31429868, 0.12168311, 0.        , 0.        , 0.28104166,\n",
       "        0.12038434, 0.        , 0.        , 0.        , 0.        ,\n",
       "        0.0992064 , 0.        , 0.        , 0.        , 0.        ,\n",
       "        0.        , 0.        , 0.        , 0.        , 0.        ,\n",
       "        0.        , 0.25499194, 0.        , 0.        , 0.        ,\n",
       "        0.        , 0.        , 0.        , 0.        , 0.        ,\n",
       "        0.        , 0.        , 0.        , 0.12903527, 0.08331372,\n",
       "        0.07693851, 0.07089691, 0.11832997, 0.35441547, 0.12221529,\n",
       "        0.        , 0.        , 0.        , 0.08725941, 0.07582946,\n",
       "        0.        , 0.44436011, 0.31429868, 0.        , 0.        ,\n",
       "        0.        , 0.13532541, 0.        , 0.        , 0.        ,\n",
       "        0.        , 0.        , 0.        , 0.11081344, 0.        ,\n",
       "        0.19065312, 0.        , 0.08022546, 0.        , 0.07100168,\n",
       "        0.        , 0.        , 0.        , 0.        , 0.13170644,\n",
       "        0.        , 0.        , 0.        , 0.41858857, 0.32569845,\n",
       "        0.1011607 , 0.        , 0.        , 0.        , 0.        ,\n",
       "        0.        , 0.        , 0.        , 0.        , 0.        ,\n",
       "        0.        , 0.1097687 , 0.10335546, 0.08777024, 0.        ,\n",
       "        0.        , 0.        , 0.        , 0.08636209, 0.        ,\n",
       "        0.        , 0.        , 0.40408524, 0.        , 0.        ,\n",
       "        0.        , 0.        , 0.11881712, 0.        , 0.        ,\n",
       "        0.08946883, 0.08488229, 0.14853147, 0.        , 0.        ,\n",
       "        0.        , 0.        , 0.        , 0.        , 0.0965084 ,\n",
       "        0.18420983, 0.        , 0.        , 0.08651822, 0.08112883,\n",
       "        0.        , 0.        , 0.        , 0.        , 0.        ,\n",
       "        0.        , 0.        , 0.        , 0.        , 0.08937554,\n",
       "        0.36581878, 0.        , 0.11564248, 0.        , 0.        ,\n",
       "        0.        , 0.        , 0.06883116, 0.0523005 , 0.        ,\n",
       "        0.07626478, 0.        , 0.        , 0.        , 0.        ,\n",
       "        0.07789262, 0.        , 0.        , 0.41621566, 0.15249852,\n",
       "        0.        , 0.        , 0.09400888, 0.22905751, 0.        ,\n",
       "        0.07083797, 0.        , 0.        , 0.15597753, 0.        ,\n",
       "        0.        , 0.        , 0.09930834, 0.        , 0.        ,\n",
       "        0.        , 0.        , 0.0654588 , 0.15381289, 0.        ,\n",
       "        0.        , 0.        , 0.        , 0.        , 0.        ,\n",
       "        0.        , 0.        , 0.        , 0.        , 0.        ,\n",
       "        0.        , 0.        , 0.        , 0.        , 0.19667764,\n",
       "        0.        , 0.1770058 , 0.25422292, 0.        , 0.        ,\n",
       "        0.        , 0.21877596, 0.18459565, 0.        , 0.26977172,\n",
       "        0.16911998, 0.        , 0.08343886, 0.09379031, 0.        ,\n",
       "        0.07668146, 0.        , 0.        , 0.        , 0.36814884,\n",
       "        0.        , 0.        , 0.        , 0.        , 0.        ,\n",
       "        0.        , 0.        , 0.        , 0.        , 0.3831855 ,\n",
       "        0.        , 0.        , 0.        , 0.0850121 , 0.        ,\n",
       "        0.08956435, 0.        , 0.        , 0.08756067, 0.21097625,\n",
       "        0.        , 0.        , 0.20351689, 0.        , 0.09177832,\n",
       "        0.        , 0.        , 0.        , 0.        , 0.08144989,\n",
       "        0.        , 0.        , 0.        , 0.        , 0.        ,\n",
       "        0.11105541, 0.187601  , 0.        , 0.06849187, 0.        ,\n",
       "        0.        , 0.        , 0.08350019, 0.        , 0.        ,\n",
       "        0.1317626 , 0.08950567, 0.        , 0.        , 0.        ,\n",
       "        0.07999368, 0.        , 0.31824502, 0.17276682, 0.        ,\n",
       "        0.        , 0.23325802, 0.        , 0.        , 0.        ,\n",
       "        0.09024003, 0.        , 0.1053398 , 0.        , 0.        ,\n",
       "        0.        , 0.        , 0.        ]])"
      ]
     },
     "execution_count": 9,
     "metadata": {},
     "output_type": "execute_result"
    }
   ],
   "source": [
    "similarities\n"
   ]
  },
  {
   "cell_type": "code",
   "execution_count": 16,
   "metadata": {},
   "outputs": [],
   "source": [
    "closest=np.argmax(similarities,axis=1)\n"
   ]
  },
  {
   "cell_type": "code",
   "execution_count": 17,
   "metadata": {},
   "outputs": [
    {
     "data": {
      "text/plain": [
       "array([156], dtype=int64)"
      ]
     },
     "execution_count": 17,
     "metadata": {},
     "output_type": "execute_result"
    }
   ],
   "source": [
    "closest"
   ]
  },
  {
   "cell_type": "code",
   "execution_count": null,
   "metadata": {},
   "outputs": [],
   "source": [
    "text =df.Answer.iloc[closest][0]"
   ]
  },
  {
   "cell_type": "code",
   "execution_count": 19,
   "metadata": {},
   "outputs": [
    {
     "data": {
      "text/plain": [
       "160    With a single API call, EC2 Fleet lets you pro...\n",
       "Name: Answer, dtype: object"
      ]
     },
     "execution_count": 19,
     "metadata": {},
     "output_type": "execute_result"
    }
   ],
   "source": [
    "text"
   ]
  },
  {
   "cell_type": "code",
   "execution_count": null,
   "metadata": {},
   "outputs": [],
   "source": []
  }
 ],
 "metadata": {
  "kernelspec": {
   "display_name": "Python 3",
   "language": "python",
   "name": "python3"
  },
  "language_info": {
   "codemirror_mode": {
    "name": "ipython",
    "version": 3
   },
   "file_extension": ".py",
   "mimetype": "text/x-python",
   "name": "python",
   "nbconvert_exporter": "python",
   "pygments_lexer": "ipython3",
   "version": "3.7.6"
  },
  "toc": {
   "base_numbering": 1,
   "nav_menu": {},
   "number_sections": true,
   "sideBar": true,
   "skip_h1_title": false,
   "title_cell": "Table of Contents",
   "title_sidebar": "Contents",
   "toc_cell": false,
   "toc_position": {},
   "toc_section_display": true,
   "toc_window_display": false
  },
  "varInspector": {
   "cols": {
    "lenName": 16,
    "lenType": 16,
    "lenVar": 40
   },
   "kernels_config": {
    "python": {
     "delete_cmd_postfix": "",
     "delete_cmd_prefix": "del ",
     "library": "var_list.py",
     "varRefreshCmd": "print(var_dic_list())"
    },
    "r": {
     "delete_cmd_postfix": ") ",
     "delete_cmd_prefix": "rm(",
     "library": "var_list.r",
     "varRefreshCmd": "cat(var_dic_list()) "
    }
   },
   "types_to_exclude": [
    "module",
    "function",
    "builtin_function_or_method",
    "instance",
    "_Feature"
   ],
   "window_display": false
  }
 },
 "nbformat": 4,
 "nbformat_minor": 4
}
