{
 "cells": [
  {
   "cell_type": "markdown",
   "metadata": {},
   "source": [
    "### Problem Statement"
   ]
  },
  {
   "cell_type": "markdown",
   "metadata": {},
   "source": [
    "Many people struggle to get loans due to insufficient or non-existent credit histories. And, unfortunately, this population  often taken advantage of by untrustworthy lenders.Home Credit Group\n",
    "\n",
    "Home Credit strives to broaden financial inclusion for the unbanked population by providing a positive and safe borrowing experience. In order to make sure this underserved population has a positive loan experience, Home Credit makes use of a variety of alternative data--including telco and transactional information--to predict their clients repayment abilities.\n",
    "\n",
    "While Home Credit is currently using various statistical and machine learning methods to make these predictions, they re challenging Kagglers to help them unlock the full potential of their data. Doing so will ensure that clients capable of repayment are not rejected and that loans are given with a principal, maturity, and repayment calendar that will empower their clients to be successful.\n",
    "\n"
   ]
  },
  {
   "cell_type": "markdown",
   "metadata": {},
   "source": [
    "### BaseData Set Creation"
   ]
  },
  {
   "cell_type": "code",
   "execution_count": 145,
   "metadata": {},
   "outputs": [],
   "source": [
    "import matplotlib.pyplot as plt"
   ]
  },
  {
   "cell_type": "code",
   "execution_count": 146,
   "metadata": {},
   "outputs": [],
   "source": [
    "import pandas as pd\n",
    "import numpy as np\n",
    "import seaborn as sns\n",
    "import warnings\n",
    "warnings.filterwarnings('ignore')\n",
    "df=pd.read_csv(r'C:\\Users\\kiran\\Downloads\\application_train.csv\\application_train.csv')"
   ]
  },
  {
   "cell_type": "code",
   "execution_count": 147,
   "metadata": {},
   "outputs": [
    {
     "data": {
      "text/html": [
       "<div>\n",
       "<style scoped>\n",
       "    .dataframe tbody tr th:only-of-type {\n",
       "        vertical-align: middle;\n",
       "    }\n",
       "\n",
       "    .dataframe tbody tr th {\n",
       "        vertical-align: top;\n",
       "    }\n",
       "\n",
       "    .dataframe thead th {\n",
       "        text-align: right;\n",
       "    }\n",
       "</style>\n",
       "<table border=\"1\" class=\"dataframe\">\n",
       "  <thead>\n",
       "    <tr style=\"text-align: right;\">\n",
       "      <th></th>\n",
       "      <th>SK_ID_CURR</th>\n",
       "      <th>TARGET</th>\n",
       "      <th>NAME_CONTRACT_TYPE</th>\n",
       "      <th>CODE_GENDER</th>\n",
       "      <th>FLAG_OWN_CAR</th>\n",
       "      <th>FLAG_OWN_REALTY</th>\n",
       "      <th>CNT_CHILDREN</th>\n",
       "      <th>AMT_INCOME_TOTAL</th>\n",
       "      <th>AMT_CREDIT</th>\n",
       "      <th>AMT_ANNUITY</th>\n",
       "      <th>...</th>\n",
       "      <th>FLAG_DOCUMENT_18</th>\n",
       "      <th>FLAG_DOCUMENT_19</th>\n",
       "      <th>FLAG_DOCUMENT_20</th>\n",
       "      <th>FLAG_DOCUMENT_21</th>\n",
       "      <th>AMT_REQ_CREDIT_BUREAU_HOUR</th>\n",
       "      <th>AMT_REQ_CREDIT_BUREAU_DAY</th>\n",
       "      <th>AMT_REQ_CREDIT_BUREAU_WEEK</th>\n",
       "      <th>AMT_REQ_CREDIT_BUREAU_MON</th>\n",
       "      <th>AMT_REQ_CREDIT_BUREAU_QRT</th>\n",
       "      <th>AMT_REQ_CREDIT_BUREAU_YEAR</th>\n",
       "    </tr>\n",
       "  </thead>\n",
       "  <tbody>\n",
       "    <tr>\n",
       "      <th>0</th>\n",
       "      <td>100002</td>\n",
       "      <td>1</td>\n",
       "      <td>Cash loans</td>\n",
       "      <td>M</td>\n",
       "      <td>N</td>\n",
       "      <td>Y</td>\n",
       "      <td>0</td>\n",
       "      <td>202500.0</td>\n",
       "      <td>406597.5</td>\n",
       "      <td>24700.5</td>\n",
       "      <td>...</td>\n",
       "      <td>0</td>\n",
       "      <td>0</td>\n",
       "      <td>0</td>\n",
       "      <td>0</td>\n",
       "      <td>0.0</td>\n",
       "      <td>0.0</td>\n",
       "      <td>0.0</td>\n",
       "      <td>0.0</td>\n",
       "      <td>0.0</td>\n",
       "      <td>1.0</td>\n",
       "    </tr>\n",
       "    <tr>\n",
       "      <th>1</th>\n",
       "      <td>100003</td>\n",
       "      <td>0</td>\n",
       "      <td>Cash loans</td>\n",
       "      <td>F</td>\n",
       "      <td>N</td>\n",
       "      <td>N</td>\n",
       "      <td>0</td>\n",
       "      <td>270000.0</td>\n",
       "      <td>1293502.5</td>\n",
       "      <td>35698.5</td>\n",
       "      <td>...</td>\n",
       "      <td>0</td>\n",
       "      <td>0</td>\n",
       "      <td>0</td>\n",
       "      <td>0</td>\n",
       "      <td>0.0</td>\n",
       "      <td>0.0</td>\n",
       "      <td>0.0</td>\n",
       "      <td>0.0</td>\n",
       "      <td>0.0</td>\n",
       "      <td>0.0</td>\n",
       "    </tr>\n",
       "    <tr>\n",
       "      <th>2</th>\n",
       "      <td>100004</td>\n",
       "      <td>0</td>\n",
       "      <td>Revolving loans</td>\n",
       "      <td>M</td>\n",
       "      <td>Y</td>\n",
       "      <td>Y</td>\n",
       "      <td>0</td>\n",
       "      <td>67500.0</td>\n",
       "      <td>135000.0</td>\n",
       "      <td>6750.0</td>\n",
       "      <td>...</td>\n",
       "      <td>0</td>\n",
       "      <td>0</td>\n",
       "      <td>0</td>\n",
       "      <td>0</td>\n",
       "      <td>0.0</td>\n",
       "      <td>0.0</td>\n",
       "      <td>0.0</td>\n",
       "      <td>0.0</td>\n",
       "      <td>0.0</td>\n",
       "      <td>0.0</td>\n",
       "    </tr>\n",
       "    <tr>\n",
       "      <th>3</th>\n",
       "      <td>100006</td>\n",
       "      <td>0</td>\n",
       "      <td>Cash loans</td>\n",
       "      <td>F</td>\n",
       "      <td>N</td>\n",
       "      <td>Y</td>\n",
       "      <td>0</td>\n",
       "      <td>135000.0</td>\n",
       "      <td>312682.5</td>\n",
       "      <td>29686.5</td>\n",
       "      <td>...</td>\n",
       "      <td>0</td>\n",
       "      <td>0</td>\n",
       "      <td>0</td>\n",
       "      <td>0</td>\n",
       "      <td>NaN</td>\n",
       "      <td>NaN</td>\n",
       "      <td>NaN</td>\n",
       "      <td>NaN</td>\n",
       "      <td>NaN</td>\n",
       "      <td>NaN</td>\n",
       "    </tr>\n",
       "    <tr>\n",
       "      <th>4</th>\n",
       "      <td>100007</td>\n",
       "      <td>0</td>\n",
       "      <td>Cash loans</td>\n",
       "      <td>M</td>\n",
       "      <td>N</td>\n",
       "      <td>Y</td>\n",
       "      <td>0</td>\n",
       "      <td>121500.0</td>\n",
       "      <td>513000.0</td>\n",
       "      <td>21865.5</td>\n",
       "      <td>...</td>\n",
       "      <td>0</td>\n",
       "      <td>0</td>\n",
       "      <td>0</td>\n",
       "      <td>0</td>\n",
       "      <td>0.0</td>\n",
       "      <td>0.0</td>\n",
       "      <td>0.0</td>\n",
       "      <td>0.0</td>\n",
       "      <td>0.0</td>\n",
       "      <td>0.0</td>\n",
       "    </tr>\n",
       "  </tbody>\n",
       "</table>\n",
       "<p>5 rows × 122 columns</p>\n",
       "</div>"
      ],
      "text/plain": [
       "   SK_ID_CURR  TARGET NAME_CONTRACT_TYPE CODE_GENDER FLAG_OWN_CAR  \\\n",
       "0      100002       1         Cash loans           M            N   \n",
       "1      100003       0         Cash loans           F            N   \n",
       "2      100004       0    Revolving loans           M            Y   \n",
       "3      100006       0         Cash loans           F            N   \n",
       "4      100007       0         Cash loans           M            N   \n",
       "\n",
       "  FLAG_OWN_REALTY  CNT_CHILDREN  AMT_INCOME_TOTAL  AMT_CREDIT  AMT_ANNUITY  \\\n",
       "0               Y             0          202500.0    406597.5      24700.5   \n",
       "1               N             0          270000.0   1293502.5      35698.5   \n",
       "2               Y             0           67500.0    135000.0       6750.0   \n",
       "3               Y             0          135000.0    312682.5      29686.5   \n",
       "4               Y             0          121500.0    513000.0      21865.5   \n",
       "\n",
       "   ...  FLAG_DOCUMENT_18 FLAG_DOCUMENT_19 FLAG_DOCUMENT_20 FLAG_DOCUMENT_21  \\\n",
       "0  ...                 0                0                0                0   \n",
       "1  ...                 0                0                0                0   \n",
       "2  ...                 0                0                0                0   \n",
       "3  ...                 0                0                0                0   \n",
       "4  ...                 0                0                0                0   \n",
       "\n",
       "  AMT_REQ_CREDIT_BUREAU_HOUR AMT_REQ_CREDIT_BUREAU_DAY  \\\n",
       "0                        0.0                       0.0   \n",
       "1                        0.0                       0.0   \n",
       "2                        0.0                       0.0   \n",
       "3                        NaN                       NaN   \n",
       "4                        0.0                       0.0   \n",
       "\n",
       "   AMT_REQ_CREDIT_BUREAU_WEEK  AMT_REQ_CREDIT_BUREAU_MON  \\\n",
       "0                         0.0                        0.0   \n",
       "1                         0.0                        0.0   \n",
       "2                         0.0                        0.0   \n",
       "3                         NaN                        NaN   \n",
       "4                         0.0                        0.0   \n",
       "\n",
       "   AMT_REQ_CREDIT_BUREAU_QRT  AMT_REQ_CREDIT_BUREAU_YEAR  \n",
       "0                        0.0                         1.0  \n",
       "1                        0.0                         0.0  \n",
       "2                        0.0                         0.0  \n",
       "3                        NaN                         NaN  \n",
       "4                        0.0                         0.0  \n",
       "\n",
       "[5 rows x 122 columns]"
      ]
     },
     "execution_count": 147,
     "metadata": {},
     "output_type": "execute_result"
    }
   ],
   "source": [
    "df.head()"
   ]
  },
  {
   "cell_type": "code",
   "execution_count": 148,
   "metadata": {},
   "outputs": [],
   "source": [
    "df=df.sample(10000)"
   ]
  },
  {
   "cell_type": "markdown",
   "metadata": {},
   "source": [
    "### Memory Optimization"
   ]
  },
  {
   "cell_type": "code",
   "execution_count": 149,
   "metadata": {},
   "outputs": [
    {
     "name": "stdout",
     "output_type": "stream",
     "text": [
      "Memory usage of dataframe is 9.38 MB\n",
      "Memory usage after optimization is: 3.08 MB\n",
      "Decreased by 67.2%\n"
     ]
    }
   ],
   "source": [
    "\"\"\" iterate through all the columns of a dataframe and modify the data type\n",
    "    to reduce memory usage.        \n",
    "\"\"\"\n",
    "start_mem = df.memory_usage().sum() / 1024**2\n",
    "print('Memory usage of dataframe is {:.2f} MB'.format(start_mem))\n",
    "\n",
    "for col in df.describe().columns:\n",
    "    col_type = df[col].dtype\n",
    "\n",
    "    if col_type != object:\n",
    "        c_min = df[col].min()\n",
    "        c_max = df[col].max()\n",
    "        if str(col_type)[:3] == 'int':\n",
    "            if c_min > np.iinfo(np.int8).min and c_max < np.iinfo(np.int8).max:\n",
    "                df[col] = df[col].astype(np.int8)\n",
    "            elif c_min > np.iinfo(np.int16).min and c_max < np.iinfo(np.int16).max:\n",
    "                df[col] = df[col].astype(np.int16)\n",
    "            elif c_min > np.iinfo(np.int32).min and c_max < np.iinfo(np.int32).max:\n",
    "                df[col] = df[col].astype(np.int32)\n",
    "            elif c_min > np.iinfo(np.int64).min and c_max < np.iinfo(np.int64).max:\n",
    "                df[col] = df[col].astype(np.int64)  \n",
    "        else:\n",
    "            if c_min > np.finfo(np.float16).min and c_max < np.finfo(np.float16).max:\n",
    "                df[col] = df[col].astype(np.float16)\n",
    "            elif c_min > np.finfo(np.float32).min and c_max < np.finfo(np.float32).max:\n",
    "                df[col] = df[col].astype(np.float32)\n",
    "            else:\n",
    "                df[col] = df[col].astype(np.float64)\n",
    "    else:\n",
    "        df[col] = df[col].astype('category')\n",
    "\n",
    "end_mem = df.memory_usage().sum() / 1024**2\n",
    "print('Memory usage after optimization is: {:.2f} MB'.format(end_mem))\n",
    "print('Decreased by {:.1f}%'.format(100 * (start_mem - end_mem) / start_mem))   "
   ]
  },
  {
   "cell_type": "markdown",
   "metadata": {},
   "source": [
    "### Null Value Treatment"
   ]
  },
  {
   "cell_type": "code",
   "execution_count": 150,
   "metadata": {
    "code_folding": []
   },
   "outputs": [],
   "source": [
    "def null_values(base_dataset):\n",
    "    print(base_dataset.isna().sum())\n",
    "    ## null value percentage     \n",
    "    null_value_table=(base_dataset.isna().sum()/base_dataset.shape[0])*100\n",
    "    #null value percentage beyond threshold drop , else treat the columns \n",
    "    \n",
    "    retained_columns=null_value_table[null_value_table<int(input())].index\n",
    "    # if any variable as null value greater than input(like 30% of the data) value than those variable are consider as drop\n",
    "    drop_columns=null_value_table[null_value_table>int(input())].index\n",
    "    base_dataset.drop(drop_columns,axis=1,inplace=True)\n",
    "    len(base_dataset.isna().sum().index)\n",
    "    cont=base_dataset.describe().columns\n",
    "    cat=[i for i in base_dataset.columns if i not in base_dataset.describe().columns]\n",
    "    for i in cat:\n",
    "        base_dataset[i].fillna(base_dataset[i].value_counts().index[0],inplace=True)\n",
    "    for i in cont:\n",
    "        base_dataset[i].fillna(base_dataset[i].median(),inplace=True)\n",
    "    print(base_dataset.isna().sum())\n",
    "    return base_dataset,cat,cont"
   ]
  },
  {
   "cell_type": "code",
   "execution_count": 151,
   "metadata": {},
   "outputs": [
    {
     "name": "stdout",
     "output_type": "stream",
     "text": [
      "SK_ID_CURR                       0\n",
      "TARGET                           0\n",
      "NAME_CONTRACT_TYPE               0\n",
      "CODE_GENDER                      0\n",
      "FLAG_OWN_CAR                     0\n",
      "FLAG_OWN_REALTY                  0\n",
      "CNT_CHILDREN                     0\n",
      "AMT_INCOME_TOTAL                 0\n",
      "AMT_CREDIT                       0\n",
      "AMT_ANNUITY                      0\n",
      "AMT_GOODS_PRICE                 11\n",
      "NAME_TYPE_SUITE                 40\n",
      "NAME_INCOME_TYPE                 0\n",
      "NAME_EDUCATION_TYPE              0\n",
      "NAME_FAMILY_STATUS               0\n",
      "NAME_HOUSING_TYPE                0\n",
      "REGION_POPULATION_RELATIVE       0\n",
      "DAYS_BIRTH                       0\n",
      "DAYS_EMPLOYED                    0\n",
      "DAYS_REGISTRATION                0\n",
      "DAYS_ID_PUBLISH                  0\n",
      "OWN_CAR_AGE                   6558\n",
      "FLAG_MOBIL                       0\n",
      "FLAG_EMP_PHONE                   0\n",
      "FLAG_WORK_PHONE                  0\n",
      "FLAG_CONT_MOBILE                 0\n",
      "FLAG_PHONE                       0\n",
      "FLAG_EMAIL                       0\n",
      "OCCUPATION_TYPE               3104\n",
      "CNT_FAM_MEMBERS                  0\n",
      "                              ... \n",
      "DEF_30_CNT_SOCIAL_CIRCLE        17\n",
      "OBS_60_CNT_SOCIAL_CIRCLE        17\n",
      "DEF_60_CNT_SOCIAL_CIRCLE        17\n",
      "DAYS_LAST_PHONE_CHANGE           0\n",
      "FLAG_DOCUMENT_2                  0\n",
      "FLAG_DOCUMENT_3                  0\n",
      "FLAG_DOCUMENT_4                  0\n",
      "FLAG_DOCUMENT_5                  0\n",
      "FLAG_DOCUMENT_6                  0\n",
      "FLAG_DOCUMENT_7                  0\n",
      "FLAG_DOCUMENT_8                  0\n",
      "FLAG_DOCUMENT_9                  0\n",
      "FLAG_DOCUMENT_10                 0\n",
      "FLAG_DOCUMENT_11                 0\n",
      "FLAG_DOCUMENT_12                 0\n",
      "FLAG_DOCUMENT_13                 0\n",
      "FLAG_DOCUMENT_14                 0\n",
      "FLAG_DOCUMENT_15                 0\n",
      "FLAG_DOCUMENT_16                 0\n",
      "FLAG_DOCUMENT_17                 0\n",
      "FLAG_DOCUMENT_18                 0\n",
      "FLAG_DOCUMENT_19                 0\n",
      "FLAG_DOCUMENT_20                 0\n",
      "FLAG_DOCUMENT_21                 0\n",
      "AMT_REQ_CREDIT_BUREAU_HOUR    1314\n",
      "AMT_REQ_CREDIT_BUREAU_DAY     1314\n",
      "AMT_REQ_CREDIT_BUREAU_WEEK    1314\n",
      "AMT_REQ_CREDIT_BUREAU_MON     1314\n",
      "AMT_REQ_CREDIT_BUREAU_QRT     1314\n",
      "AMT_REQ_CREDIT_BUREAU_YEAR    1314\n",
      "Length: 122, dtype: int64\n",
      "30\n",
      "30\n",
      "SK_ID_CURR                     0\n",
      "TARGET                         0\n",
      "NAME_CONTRACT_TYPE             0\n",
      "CODE_GENDER                    0\n",
      "FLAG_OWN_CAR                   0\n",
      "FLAG_OWN_REALTY                0\n",
      "CNT_CHILDREN                   0\n",
      "AMT_INCOME_TOTAL               0\n",
      "AMT_CREDIT                     0\n",
      "AMT_ANNUITY                    0\n",
      "AMT_GOODS_PRICE                0\n",
      "NAME_TYPE_SUITE                0\n",
      "NAME_INCOME_TYPE               0\n",
      "NAME_EDUCATION_TYPE            0\n",
      "NAME_FAMILY_STATUS             0\n",
      "NAME_HOUSING_TYPE              0\n",
      "REGION_POPULATION_RELATIVE     0\n",
      "DAYS_BIRTH                     0\n",
      "DAYS_EMPLOYED                  0\n",
      "DAYS_REGISTRATION              0\n",
      "DAYS_ID_PUBLISH                0\n",
      "FLAG_MOBIL                     0\n",
      "FLAG_EMP_PHONE                 0\n",
      "FLAG_WORK_PHONE                0\n",
      "FLAG_CONT_MOBILE               0\n",
      "FLAG_PHONE                     0\n",
      "FLAG_EMAIL                     0\n",
      "CNT_FAM_MEMBERS                0\n",
      "REGION_RATING_CLIENT           0\n",
      "REGION_RATING_CLIENT_W_CITY    0\n",
      "                              ..\n",
      "DEF_30_CNT_SOCIAL_CIRCLE       0\n",
      "OBS_60_CNT_SOCIAL_CIRCLE       0\n",
      "DEF_60_CNT_SOCIAL_CIRCLE       0\n",
      "DAYS_LAST_PHONE_CHANGE         0\n",
      "FLAG_DOCUMENT_2                0\n",
      "FLAG_DOCUMENT_3                0\n",
      "FLAG_DOCUMENT_4                0\n",
      "FLAG_DOCUMENT_5                0\n",
      "FLAG_DOCUMENT_6                0\n",
      "FLAG_DOCUMENT_7                0\n",
      "FLAG_DOCUMENT_8                0\n",
      "FLAG_DOCUMENT_9                0\n",
      "FLAG_DOCUMENT_10               0\n",
      "FLAG_DOCUMENT_11               0\n",
      "FLAG_DOCUMENT_12               0\n",
      "FLAG_DOCUMENT_13               0\n",
      "FLAG_DOCUMENT_14               0\n",
      "FLAG_DOCUMENT_15               0\n",
      "FLAG_DOCUMENT_16               0\n",
      "FLAG_DOCUMENT_17               0\n",
      "FLAG_DOCUMENT_18               0\n",
      "FLAG_DOCUMENT_19               0\n",
      "FLAG_DOCUMENT_20               0\n",
      "FLAG_DOCUMENT_21               0\n",
      "AMT_REQ_CREDIT_BUREAU_HOUR     0\n",
      "AMT_REQ_CREDIT_BUREAU_DAY      0\n",
      "AMT_REQ_CREDIT_BUREAU_WEEK     0\n",
      "AMT_REQ_CREDIT_BUREAU_MON      0\n",
      "AMT_REQ_CREDIT_BUREAU_QRT      0\n",
      "AMT_REQ_CREDIT_BUREAU_YEAR     0\n",
      "Length: 72, dtype: int64\n"
     ]
    }
   ],
   "source": [
    " base_dataset,cat,cont=null_values(df)"
   ]
  },
  {
   "cell_type": "code",
   "execution_count": 152,
   "metadata": {},
   "outputs": [
    {
     "data": {
      "text/html": [
       "<div>\n",
       "<style scoped>\n",
       "    .dataframe tbody tr th:only-of-type {\n",
       "        vertical-align: middle;\n",
       "    }\n",
       "\n",
       "    .dataframe tbody tr th {\n",
       "        vertical-align: top;\n",
       "    }\n",
       "\n",
       "    .dataframe thead th {\n",
       "        text-align: right;\n",
       "    }\n",
       "</style>\n",
       "<table border=\"1\" class=\"dataframe\">\n",
       "  <thead>\n",
       "    <tr style=\"text-align: right;\">\n",
       "      <th></th>\n",
       "      <th>SK_ID_CURR</th>\n",
       "      <th>TARGET</th>\n",
       "      <th>NAME_CONTRACT_TYPE</th>\n",
       "      <th>CODE_GENDER</th>\n",
       "      <th>FLAG_OWN_CAR</th>\n",
       "      <th>FLAG_OWN_REALTY</th>\n",
       "      <th>CNT_CHILDREN</th>\n",
       "      <th>AMT_INCOME_TOTAL</th>\n",
       "      <th>AMT_CREDIT</th>\n",
       "      <th>AMT_ANNUITY</th>\n",
       "      <th>...</th>\n",
       "      <th>FLAG_DOCUMENT_18</th>\n",
       "      <th>FLAG_DOCUMENT_19</th>\n",
       "      <th>FLAG_DOCUMENT_20</th>\n",
       "      <th>FLAG_DOCUMENT_21</th>\n",
       "      <th>AMT_REQ_CREDIT_BUREAU_HOUR</th>\n",
       "      <th>AMT_REQ_CREDIT_BUREAU_DAY</th>\n",
       "      <th>AMT_REQ_CREDIT_BUREAU_WEEK</th>\n",
       "      <th>AMT_REQ_CREDIT_BUREAU_MON</th>\n",
       "      <th>AMT_REQ_CREDIT_BUREAU_QRT</th>\n",
       "      <th>AMT_REQ_CREDIT_BUREAU_YEAR</th>\n",
       "    </tr>\n",
       "  </thead>\n",
       "  <tbody>\n",
       "    <tr>\n",
       "      <th>72537</th>\n",
       "      <td>184117</td>\n",
       "      <td>0</td>\n",
       "      <td>Revolving loans</td>\n",
       "      <td>F</td>\n",
       "      <td>N</td>\n",
       "      <td>Y</td>\n",
       "      <td>0</td>\n",
       "      <td>144000.0</td>\n",
       "      <td>292500.0</td>\n",
       "      <td>14625.0</td>\n",
       "      <td>...</td>\n",
       "      <td>0</td>\n",
       "      <td>0</td>\n",
       "      <td>0</td>\n",
       "      <td>0</td>\n",
       "      <td>0.0</td>\n",
       "      <td>0.0</td>\n",
       "      <td>0.0</td>\n",
       "      <td>1.0</td>\n",
       "      <td>0.0</td>\n",
       "      <td>0.0</td>\n",
       "    </tr>\n",
       "    <tr>\n",
       "      <th>269614</th>\n",
       "      <td>412457</td>\n",
       "      <td>0</td>\n",
       "      <td>Cash loans</td>\n",
       "      <td>M</td>\n",
       "      <td>N</td>\n",
       "      <td>Y</td>\n",
       "      <td>0</td>\n",
       "      <td>112500.0</td>\n",
       "      <td>253377.0</td>\n",
       "      <td>12933.0</td>\n",
       "      <td>...</td>\n",
       "      <td>0</td>\n",
       "      <td>0</td>\n",
       "      <td>0</td>\n",
       "      <td>0</td>\n",
       "      <td>1.0</td>\n",
       "      <td>0.0</td>\n",
       "      <td>0.0</td>\n",
       "      <td>0.0</td>\n",
       "      <td>0.0</td>\n",
       "      <td>1.0</td>\n",
       "    </tr>\n",
       "    <tr>\n",
       "      <th>279657</th>\n",
       "      <td>423991</td>\n",
       "      <td>0</td>\n",
       "      <td>Cash loans</td>\n",
       "      <td>M</td>\n",
       "      <td>Y</td>\n",
       "      <td>Y</td>\n",
       "      <td>0</td>\n",
       "      <td>180000.0</td>\n",
       "      <td>276277.5</td>\n",
       "      <td>18261.0</td>\n",
       "      <td>...</td>\n",
       "      <td>0</td>\n",
       "      <td>0</td>\n",
       "      <td>0</td>\n",
       "      <td>0</td>\n",
       "      <td>0.0</td>\n",
       "      <td>0.0</td>\n",
       "      <td>0.0</td>\n",
       "      <td>0.0</td>\n",
       "      <td>0.0</td>\n",
       "      <td>4.0</td>\n",
       "    </tr>\n",
       "    <tr>\n",
       "      <th>110841</th>\n",
       "      <td>228588</td>\n",
       "      <td>0</td>\n",
       "      <td>Cash loans</td>\n",
       "      <td>F</td>\n",
       "      <td>N</td>\n",
       "      <td>Y</td>\n",
       "      <td>0</td>\n",
       "      <td>148500.0</td>\n",
       "      <td>450000.0</td>\n",
       "      <td>31320.0</td>\n",
       "      <td>...</td>\n",
       "      <td>0</td>\n",
       "      <td>0</td>\n",
       "      <td>0</td>\n",
       "      <td>0</td>\n",
       "      <td>0.0</td>\n",
       "      <td>0.0</td>\n",
       "      <td>0.0</td>\n",
       "      <td>0.0</td>\n",
       "      <td>1.0</td>\n",
       "      <td>2.0</td>\n",
       "    </tr>\n",
       "    <tr>\n",
       "      <th>57300</th>\n",
       "      <td>166411</td>\n",
       "      <td>0</td>\n",
       "      <td>Cash loans</td>\n",
       "      <td>F</td>\n",
       "      <td>Y</td>\n",
       "      <td>Y</td>\n",
       "      <td>0</td>\n",
       "      <td>252000.0</td>\n",
       "      <td>1139845.5</td>\n",
       "      <td>45202.5</td>\n",
       "      <td>...</td>\n",
       "      <td>0</td>\n",
       "      <td>0</td>\n",
       "      <td>0</td>\n",
       "      <td>0</td>\n",
       "      <td>0.0</td>\n",
       "      <td>0.0</td>\n",
       "      <td>0.0</td>\n",
       "      <td>1.0</td>\n",
       "      <td>0.0</td>\n",
       "      <td>9.0</td>\n",
       "    </tr>\n",
       "  </tbody>\n",
       "</table>\n",
       "<p>5 rows × 72 columns</p>\n",
       "</div>"
      ],
      "text/plain": [
       "        SK_ID_CURR  TARGET NAME_CONTRACT_TYPE CODE_GENDER FLAG_OWN_CAR  \\\n",
       "72537       184117       0    Revolving loans           F            N   \n",
       "269614      412457       0         Cash loans           M            N   \n",
       "279657      423991       0         Cash loans           M            Y   \n",
       "110841      228588       0         Cash loans           F            N   \n",
       "57300       166411       0         Cash loans           F            Y   \n",
       "\n",
       "       FLAG_OWN_REALTY  CNT_CHILDREN  AMT_INCOME_TOTAL  AMT_CREDIT  \\\n",
       "72537                Y             0          144000.0    292500.0   \n",
       "269614               Y             0          112500.0    253377.0   \n",
       "279657               Y             0          180000.0    276277.5   \n",
       "110841               Y             0          148500.0    450000.0   \n",
       "57300                Y             0          252000.0   1139845.5   \n",
       "\n",
       "        AMT_ANNUITY  ...  FLAG_DOCUMENT_18 FLAG_DOCUMENT_19 FLAG_DOCUMENT_20  \\\n",
       "72537       14625.0  ...                 0                0                0   \n",
       "269614      12933.0  ...                 0                0                0   \n",
       "279657      18261.0  ...                 0                0                0   \n",
       "110841      31320.0  ...                 0                0                0   \n",
       "57300       45202.5  ...                 0                0                0   \n",
       "\n",
       "       FLAG_DOCUMENT_21 AMT_REQ_CREDIT_BUREAU_HOUR AMT_REQ_CREDIT_BUREAU_DAY  \\\n",
       "72537                 0                        0.0                       0.0   \n",
       "269614                0                        1.0                       0.0   \n",
       "279657                0                        0.0                       0.0   \n",
       "110841                0                        0.0                       0.0   \n",
       "57300                 0                        0.0                       0.0   \n",
       "\n",
       "        AMT_REQ_CREDIT_BUREAU_WEEK  AMT_REQ_CREDIT_BUREAU_MON  \\\n",
       "72537                          0.0                        1.0   \n",
       "269614                         0.0                        0.0   \n",
       "279657                         0.0                        0.0   \n",
       "110841                         0.0                        0.0   \n",
       "57300                          0.0                        1.0   \n",
       "\n",
       "        AMT_REQ_CREDIT_BUREAU_QRT  AMT_REQ_CREDIT_BUREAU_YEAR  \n",
       "72537                         0.0                         0.0  \n",
       "269614                        0.0                         1.0  \n",
       "279657                        0.0                         4.0  \n",
       "110841                        1.0                         2.0  \n",
       "57300                         0.0                         9.0  \n",
       "\n",
       "[5 rows x 72 columns]"
      ]
     },
     "execution_count": 152,
     "metadata": {},
     "output_type": "execute_result"
    }
   ],
   "source": [
    "base_dataset.head()"
   ]
  },
  {
   "cell_type": "markdown",
   "metadata": {},
   "source": [
    "### Label Encoders"
   ]
  },
  {
   "cell_type": "code",
   "execution_count": 153,
   "metadata": {},
   "outputs": [],
   "source": [
    "from sklearn.preprocessing import LabelEncoder\n",
    "def label_encoders(data,cat):\n",
    "    le=LabelEncoder()\n",
    "    for i in cat:\n",
    "        le.fit(data[i])\n",
    "        x=le.transform(data[i])\n",
    "        data[i]=x\n",
    "    return data"
   ]
  },
  {
   "cell_type": "code",
   "execution_count": 154,
   "metadata": {},
   "outputs": [],
   "source": [
    "base_dataset=label_encoders(base_dataset,cat)"
   ]
  },
  {
   "cell_type": "code",
   "execution_count": 155,
   "metadata": {},
   "outputs": [
    {
     "data": {
      "text/plain": [
       "(10000, 72)"
      ]
     },
     "execution_count": 155,
     "metadata": {},
     "output_type": "execute_result"
    }
   ],
   "source": [
    "base_dataset.shape"
   ]
  },
  {
   "cell_type": "code",
   "execution_count": 156,
   "metadata": {},
   "outputs": [
    {
     "data": {
      "text/plain": [
       "0    9184\n",
       "1     816\n",
       "Name: TARGET, dtype: int64"
      ]
     },
     "execution_count": 156,
     "metadata": {},
     "output_type": "execute_result"
    }
   ],
   "source": [
    "base_dataset['TARGET'].value_counts()"
   ]
  },
  {
   "cell_type": "markdown",
   "metadata": {},
   "source": [
    "### Train Test Split & Imbalance to Balance data"
   ]
  },
  {
   "cell_type": "code",
   "execution_count": 157,
   "metadata": {},
   "outputs": [],
   "source": [
    "# For Classification\n",
    "X=base_dataset.drop(\"TARGET\",axis=1)\n",
    "y=base_dataset['TARGET']"
   ]
  },
  {
   "cell_type": "code",
   "execution_count": 158,
   "metadata": {},
   "outputs": [],
   "source": [
    "def SMOTE(X,y):\n",
    "    from imblearn.over_sampling import SMOTE\n",
    "    from sklearn.model_selection import train_test_split\n",
    "    X_train, X_test, y_train, y_test = train_test_split(X, y, test_size=0.3, random_state=0)\n",
    "    print(\"Number transactions X_train dataset: \", X_train.shape)\n",
    "    print(\"Number transactions y_train dataset: \", y_train.shape)\n",
    "    print(\"Number transactions X_test dataset: \", X_test.shape)\n",
    "    print(\"Number transactions y_test dataset: \", y_test.shape)\n",
    "\n",
    "\n",
    "\n",
    "    print(\"Before OverSampling, counts of label '1': {}\".format(sum(y_train==1)))\n",
    "    print(\"Before OverSampling, counts of label '0': {} \\n\".format(sum(y_train==0)))\n",
    "\n",
    "    sm = SMOTE(random_state=2)\n",
    "    X_train_res, y_train_res = sm.fit_sample(X_train, y_train.ravel())\n",
    "\n",
    "    print('After OverSampling, the shape of train_X: {}'.format(X_train_res.shape))\n",
    "    print('After OverSampling, the shape of train_y: {} \\n'.format(y_train_res.shape))\n",
    "\n",
    "    print(\"After OverSampling, counts of label '1': {}\".format(sum(y_train_res==1)))\n",
    "    print(\"After OverSampling, counts of label '0': {}\".format(sum(y_train_res==0)))\n"
   ]
  },
  {
   "cell_type": "code",
   "execution_count": 159,
   "metadata": {},
   "outputs": [
    {
     "name": "stdout",
     "output_type": "stream",
     "text": [
      "Number transactions X_train dataset:  (7000, 71)\n",
      "Number transactions y_train dataset:  (7000,)\n",
      "Number transactions X_test dataset:  (3000, 71)\n",
      "Number transactions y_test dataset:  (3000,)\n",
      "Before OverSampling, counts of label '1': 583\n",
      "Before OverSampling, counts of label '0': 6417 \n",
      "\n",
      "After OverSampling, the shape of train_X: (12834, 71)\n",
      "After OverSampling, the shape of train_y: (12834,) \n",
      "\n",
      "After OverSampling, counts of label '1': 6417\n",
      "After OverSampling, counts of label '0': 6417\n"
     ]
    }
   ],
   "source": [
    "SMOTE(X,y)"
   ]
  },
  {
   "cell_type": "code",
   "execution_count": 160,
   "metadata": {},
   "outputs": [
    {
     "data": {
      "text/plain": [
       "(array([4.145e+03, 3.690e+03, 1.370e+03, 6.000e+02, 1.470e+02, 3.000e+01,\n",
       "        1.600e+01, 1.000e+00, 0.000e+00, 1.000e+00]),\n",
       " array([  45000.  ,  443603.25,  842206.5 , 1240809.8 , 1639413.  ,\n",
       "        2038016.2 , 2436619.5 , 2835222.8 , 3233826.  , 3632429.2 ,\n",
       "        4031032.5 ], dtype=float32),\n",
       " <a list of 10 Patch objects>)"
      ]
     },
     "execution_count": 160,
     "metadata": {},
     "output_type": "execute_result"
    },
    {
     "data": {
      "image/png": "[encoded data removed]",
      "text/plain": [
       "<Figure size 432x288 with 1 Axes>"
      ]
     },
     "metadata": {
      "needs_background": "light"
     },
     "output_type": "display_data"
    }
   ],
   "source": [
    "plt.hist(base_dataset[\"AMT_CREDIT\"])"
   ]
  },
  {
   "cell_type": "code",
   "execution_count": 161,
   "metadata": {
    "scrolled": true
   },
   "outputs": [
    {
     "data": {
      "text/plain": [
       "(array([  75.,  194.,  531., 1830., 1421., 2344., 2260., 1150.,  192.,\n",
       "           3.]),\n",
       " array([10.714417 , 11.163929 , 11.6134405, 12.062952 , 12.512464 ,\n",
       "        12.961975 , 13.411487 , 13.860998 , 14.31051  , 14.760021 ,\n",
       "        15.209533 ], dtype=float32),\n",
       " <a list of 10 Patch objects>)"
      ]
     },
     "execution_count": 161,
     "metadata": {},
     "output_type": "execute_result"
    },
    {
     "data": {
      "image/png": "[encoded data removed]",
      "text/plain": [
       "<Figure size 432x288 with 1 Axes>"
      ]
     },
     "metadata": {
      "needs_background": "light"
     },
     "output_type": "display_data"
    }
   ],
   "source": [
    "plt.hist(np.log(base_dataset[\"AMT_CREDIT\"]))"
   ]
  },
  {
   "cell_type": "markdown",
   "metadata": {},
   "source": [
    "### Model building and Validation"
   ]
  },
  {
   "cell_type": "code",
   "execution_count": 173,
   "metadata": {},
   "outputs": [],
   "source": [
    "def model_validation(base_dataset,target_name,model,type_of_model):\n",
    "    x=base_dataset.drop(target_name,axis=1)\n",
    "    y=base_dataset[target_name]    \n",
    "    from sklearn.model_selection import train_test_split\n",
    "    X_train, X_test, y_train, y_test = train_test_split(x, y, test_size=0.3, random_state=1)\n",
    "    if type_of_model=='regression':\n",
    "        dt=model()\n",
    "        y_train=np.log(y_train)\n",
    "        y_test=np.log(y_test)\n",
    "        dt.fit(X_train,y_train)\n",
    "        dt.predict(X_test)       \n",
    "        print(model,\"MAE\",mean_absolute_error(np.exp(y_test),np.exp(dt.predict(X_test))))\n",
    "        print(model,\"MSE\",mean_squared_error(np.exp(y_test),np.exp(dt.predict(X_test))))\n",
    "        \n",
    "        \n",
    "    else:\n",
    "        dt=model()\n",
    "        dt.fit(X_train,y_train)\n",
    "        dt.predict(X_test)\n",
    "        print(confusion_matrix(y_test,dt.predict(X_test)))\n",
    "        tp,fp,fn,tn=confusion_matrix(y_test,dt.predict(X_test)).ravel()\n",
    "        print(tp,fp,fn,tn)\n",
    "        total=tp+fp+fn+tn\n",
    "        AS=(tp+tn)/total\n",
    "        sensitivity=tp/(tp+fn)\n",
    "        precision=tp/(tp+fp)\n",
    "        specificity=tn/(fp+tn)\n",
    "        print(\"A.S\",AS,sensitivity,precision,specificity)\n",
    "        print(model,\"A.S.\",accuracy_score(y_test,dt.predict(X_test)))"
   ]
  },
  {
   "cell_type": "code",
   "execution_count": 142,
   "metadata": {},
   "outputs": [],
   "source": [
    "from sklearn.metrics import confusion_matrix\n",
    "from sklearn.metrics import accuracy_score\n",
    "from sklearn.metrics import mean_absolute_error\n",
    "from sklearn.metrics import mean_squared_error\n"
   ]
  },
  {
   "cell_type": "code",
   "execution_count": 143,
   "metadata": {},
   "outputs": [],
   "source": [
    "from sklearn.ensemble import RandomForestClassifier\n",
    "from sklearn.ensemble import BaggingClassifier\n",
    "from sklearn.tree import DecisionTreeClassifier\n",
    "from sklearn.tree import DecisionTreeRegressor\n",
    "from sklearn.ensemble import BaggingRegressor\n",
    "from sklearn.ensemble import RandomForestRegressor"
   ]
  },
  {
   "cell_type": "code",
   "execution_count": 174,
   "metadata": {},
   "outputs": [
    {
     "name": "stdout",
     "output_type": "stream",
     "text": [
      "<class 'sklearn.tree.tree.DecisionTreeRegressor'> MAE 40728.241505522405\n",
      "<class 'sklearn.tree.tree.DecisionTreeRegressor'> MSE 4779298951.239504\n",
      "<class 'sklearn.ensemble.bagging.BaggingRegressor'> MAE 35985.04436429992\n",
      "<class 'sklearn.ensemble.bagging.BaggingRegressor'> MSE 3030385529.49627\n",
      "<class 'sklearn.ensemble.forest.RandomForestRegressor'> MAE 35895.60743282132\n",
      "<class 'sklearn.ensemble.forest.RandomForestRegressor'> MSE 3044171573.068336\n"
     ]
    }
   ],
   "source": [
    "regmodels=[DecisionTreeRegressor,BaggingRegressor,RandomForestRegressor]\n",
    "for i in regmodels:\n",
    "    model_validation(base_dataset,\"AMT_CREDIT\",i,'regression')"
   ]
  },
  {
   "cell_type": "code",
   "execution_count": 164,
   "metadata": {
    "scrolled": true
   },
   "outputs": [
    {
     "name": "stdout",
     "output_type": "stream",
     "text": [
      "[[2482  274]\n",
      " [ 212   32]]\n",
      "2482 274 212 32\n",
      "A.S 0.838 0.9213066072754269 0.9005805515239478 0.10457516339869281\n",
      "<class 'sklearn.tree.tree.DecisionTreeClassifier'> A.S. 0.838\n",
      "[[2746   10]\n",
      " [ 241    3]]\n",
      "2746 10 241 3\n",
      "A.S 0.9163333333333333 0.9193170405088718 0.9963715529753265 0.23076923076923078\n",
      "<class 'sklearn.ensemble.forest.RandomForestClassifier'> A.S. 0.9163333333333333\n",
      "[[2743   13]\n",
      " [ 242    2]]\n",
      "2743 13 242 2\n",
      "A.S 0.915 0.91892797319933 0.9952830188679245 0.13333333333333333\n",
      "<class 'sklearn.ensemble.bagging.BaggingClassifier'> A.S. 0.915\n"
     ]
    }
   ],
   "source": [
    "models=[DecisionTreeClassifier,RandomForestClassifier,BaggingClassifier]\n",
    "for i in models:\n",
    "    model_validation(base_dataset,'TARGET',i,'Classification')"
   ]
  },
  {
   "cell_type": "code",
   "execution_count": null,
   "metadata": {},
   "outputs": [],
   "source": []
  }
 ],
 "metadata": {
  "kernelspec": {
   "display_name": "Python 3",
   "language": "python",
   "name": "python3"
  },
  "language_info": {
   "codemirror_mode": {
    "name": "ipython",
    "version": 3
   },
   "file_extension": ".py",
   "mimetype": "text/x-python",
   "name": "python",
   "nbconvert_exporter": "python",
   "pygments_lexer": "ipython3",
   "version": "3.7.6"
  },
  "toc": {
   "base_numbering": 1,
   "nav_menu": {},
   "number_sections": true,
   "sideBar": true,
   "skip_h1_title": false,
   "title_cell": "Table of Contents",
   "title_sidebar": "Contents",
   "toc_cell": false,
   "toc_position": {},
   "toc_section_display": true,
   "toc_window_display": false
  },
  "varInspector": {
   "cols": {
    "lenName": 16,
    "lenType": 16,
    "lenVar": 40
   },
   "kernels_config": {
    "python": {
     "delete_cmd_postfix": "",
     "delete_cmd_prefix": "del ",
     "library": "var_list.py",
     "varRefreshCmd": "print(var_dic_list())"
    },
    "r": {
     "delete_cmd_postfix": ") ",
     "delete_cmd_prefix": "rm(",
     "library": "var_list.r",
     "varRefreshCmd": "cat(var_dic_list()) "
    }
   },
   "types_to_exclude": [
    "module",
    "function",
    "builtin_function_or_method",
    "instance",
    "_Feature"
   ],
   "window_display": false
  }
 },
 "nbformat": 4,
 "nbformat_minor": 2
}
